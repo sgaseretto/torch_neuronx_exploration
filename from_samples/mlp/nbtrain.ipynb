{
 "cells": [
  {
   "cell_type": "code",
   "execution_count": 3,
   "metadata": {},
   "outputs": [
    {
     "name": "stdout",
     "output_type": "stream",
     "text": [
      "aws-neuronx-runtime-discovery==2.9\n",
      "libneuronxla==0.5.971\n",
      "neuronx-cc==2.13.66.0+6dfecc895\n",
      "neuronx-distributed==0.7.0\n",
      "optimum-neuron @ file:///home/ubuntu/optimum-neuron\n",
      "tensorboard-plugin-neuronx==2.6.7.0\n",
      "torch==1.13.1\n",
      "torch-neuronx==1.13.1.1.14.0\n",
      "torch-xla==1.13.1+torchneurone\n",
      "torchvision==0.14.1\n",
      "transformers-neuronx==0.10.0.21\n"
     ]
    }
   ],
   "source": [
    "!pip freeze | grep -e neuron -e torch"
   ]
  },
  {
   "cell_type": "code",
   "execution_count": 4,
   "metadata": {},
   "outputs": [
    {
     "name": "stdout",
     "output_type": "stream",
     "text": [
      "/home/ubuntu/torch_neuronx_exploration/from_samples\n"
     ]
    }
   ],
   "source": [
    "!pwd"
   ]
  },
  {
   "cell_type": "markdown",
   "metadata": {},
   "source": [
    "## Training on CPU"
   ]
  },
  {
   "cell_type": "code",
   "execution_count": 5,
   "metadata": {},
   "outputs": [
    {
     "name": "stdout",
     "output_type": "stream",
     "text": [
      "----------Training ---------------\n",
      "Train throughput (iter/sec): 218.60046826389558\n",
      "Final loss is 0.0528\n",
      "----------End Training ---------------\n"
     ]
    }
   ],
   "source": [
    "!python train_cpu.py"
   ]
  },
  {
   "cell_type": "markdown",
   "metadata": {},
   "source": [
    "## Training an MLP on Neuron"
   ]
  },
  {
   "cell_type": "code",
   "execution_count": 6,
   "metadata": {},
   "outputs": [
    {
     "name": "stdout",
     "output_type": "stream",
     "text": [
      "----------Training ---------------\n",
      "----------Training ---------------\n",
      "2024-04-30 17:28:46.000429:  2913  INFO ||NEURON_CACHE||: Compile cache path: /var/tmp/neuron-compile-cache\n",
      "2024-04-30 17:28:46.000430:  2913  INFO ||NEURON_CC_WRAPPER||: Call compiler with cmd: ['neuronx-cc', '--target=trn1', 'compile', '--framework', 'XLA', '/tmp/ubuntu/neuroncc_compile_workdir/c72aa296-9f96-47a4-ac8a-9d3da4820087/model.MODULE_33802467304060486+d41d8cd9.hlo.pb', '--output', '/tmp/ubuntu/neuroncc_compile_workdir/c72aa296-9f96-47a4-ac8a-9d3da4820087/model.MODULE_33802467304060486+d41d8cd9.neff', '--verbose=35']\n",
      ".\n",
      "Compiler status PASS\n",
      "2024-04-30 17:28:48.000956:  2974  INFO ||NEURON_CACHE||: Compile cache path: /var/tmp/neuron-compile-cache\n",
      "2024-04-30 17:28:48.000957:  2974  INFO ||NEURON_CC_WRAPPER||: Call compiler with cmd: ['neuronx-cc', '--target=trn1', 'compile', '--framework', 'XLA', '/tmp/ubuntu/neuroncc_compile_workdir/fc52d44e-fc4e-45d3-a2c3-7b153a8faa43/model.MODULE_5901137137583675477+d41d8cd9.hlo.pb', '--output', '/tmp/ubuntu/neuroncc_compile_workdir/fc52d44e-fc4e-45d3-a2c3-7b153a8faa43/model.MODULE_5901137137583675477+d41d8cd9.neff', '--verbose=35']\n",
      ".\n",
      "Compiler status PASS\n",
      "2024-Apr-30 17:28:52.0934 2518:2576 [0] nccl_net_ofi_init:1415 CCOM WARN NET/OFI aws-ofi-nccl initialization failed\n",
      "2024-Apr-30 17:28:52.0934 2518:2576 [0] init.cc:137 CCOM WARN OFI plugin initNet() failed is EFA enabled?\n",
      "2024-04-30 17:28:53.000168:  3033  INFO ||NEURON_CACHE||: Compile cache path: /var/tmp/neuron-compile-cache\n",
      "2024-04-30 17:28:53.000169:  3033  INFO ||NEURON_CC_WRAPPER||: Call compiler with cmd: ['neuronx-cc', '--target=trn1', 'compile', '--framework', 'XLA', '/tmp/ubuntu/neuroncc_compile_workdir/4c0f3543-e7d9-4086-8abc-4ba671336b20/model.MODULE_6109883310327784690+d41d8cd9.hlo.pb', '--output', '/tmp/ubuntu/neuroncc_compile_workdir/4c0f3543-e7d9-4086-8abc-4ba671336b20/model.MODULE_6109883310327784690+d41d8cd9.neff', '--verbose=35']\n",
      ".\n",
      "Compiler status PASS\n",
      "2024-04-30 17:29:02.000643:  14614  INFO ||NEURON_CACHE||: Compile cache path: /var/tmp/neuron-compile-cache\n",
      "2024-04-30 17:29:02.000645:  14614  INFO ||NEURON_CC_WRAPPER||: Call compiler with cmd: ['neuronx-cc', '--target=trn1', 'compile', '--framework', 'XLA', '/tmp/ubuntu/neuroncc_compile_workdir/be9c68be-2144-40f3-a492-99ca663a32a5/model.MODULE_4927359063392220057+d41d8cd9.hlo.pb', '--output', '/tmp/ubuntu/neuroncc_compile_workdir/be9c68be-2144-40f3-a492-99ca663a32a5/model.MODULE_4927359063392220057+d41d8cd9.neff', '--verbose=35']\n",
      ".\n",
      "Compiler status PASS\n",
      "Train throughput (iter/sec): 208.15005628002191\n",
      "Train throughput (iter/sec): 208.25322892334918\n",
      "Final loss is 0.3240\n",
      "Final loss is 0.0942\n",
      "----------End Training -------------------------End Training ---------------\n",
      "\n"
     ]
    }
   ],
   "source": [
    "!python train_xmp.py"
   ]
  },
  {
   "cell_type": "code",
   "execution_count": null,
   "metadata": {},
   "outputs": [],
   "source": []
  }
 ],
 "metadata": {
  "kernelspec": {
   "display_name": "Python 3",
   "language": "python",
   "name": "python3"
  },
  "language_info": {
   "codemirror_mode": {
    "name": "ipython",
    "version": 3
   },
   "file_extension": ".py",
   "mimetype": "text/x-python",
   "name": "python",
   "nbconvert_exporter": "python",
   "pygments_lexer": "ipython3",
   "version": "3.8.10"
  }
 },
 "nbformat": 4,
 "nbformat_minor": 2
}
